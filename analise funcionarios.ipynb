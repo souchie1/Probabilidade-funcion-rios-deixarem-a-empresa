{
 "cells": [
  {
   "cell_type": "markdown",
   "id": "2eddbdff",
   "metadata": {},
   "source": [
    "# Importando as Bibliotecas"
   ]
  },
  {
   "cell_type": "code",
   "execution_count": null,
   "id": "bb808c34",
   "metadata": {},
   "outputs": [],
   "source": [
    "import pandas as pd\n",
    "import matplotlib.pyplot as plt\n",
    "import numpy as np\n",
    "import plotly\n",
    "import seaborn as sns\n",
    "import plotly.express as px"
   ]
  },
  {
   "cell_type": "markdown",
   "id": "27f6ae10",
   "metadata": {},
   "source": [
    "## Importando Dados"
   ]
  },
  {
   "cell_type": "code",
   "execution_count": null,
   "id": "3f6a30e1",
   "metadata": {},
   "outputs": [],
   "source": [
    "df = pd.read_csv('Human_Resources.csv')\n"
   ]
  },
  {
   "cell_type": "code",
   "execution_count": null,
   "id": "b0a73fb2",
   "metadata": {},
   "outputs": [],
   "source": [
    "df.columns"
   ]
  },
  {
   "cell_type": "code",
   "execution_count": null,
   "id": "4b465cb3",
   "metadata": {},
   "outputs": [],
   "source": [
    "# dade Atrito Viagem de Negócios Salário Diário Departamento Distância de Casa Educação Campo de Educação Contagem de Empregados Número do Empregado ... Satisfação no Relacionamento Horas Padrão Nível de Opção de Ações Anos Totais de Trabalho Treinamentos no Último Ano Equilíbrio entre Trabalho e Vida Anos na Empresa Anos no Cargo Atual Anos Desde a Última Promoção Anos com o Atual Gerente"
   ]
  },
  {
   "cell_type": "code",
   "execution_count": null,
   "id": "3c06402d",
   "metadata": {},
   "outputs": [],
   "source": [
    "df.shape"
   ]
  },
  {
   "cell_type": "code",
   "execution_count": null,
   "id": "9569fc76",
   "metadata": {},
   "outputs": [],
   "source": [
    "df.head()"
   ]
  },
  {
   "cell_type": "code",
   "execution_count": null,
   "id": "04714e39",
   "metadata": {},
   "outputs": [],
   "source": [
    "df.tail()"
   ]
  },
  {
   "cell_type": "code",
   "execution_count": null,
   "id": "b127ddfe",
   "metadata": {},
   "outputs": [],
   "source": [
    "df.sample()"
   ]
  },
  {
   "cell_type": "code",
   "execution_count": null,
   "id": "ce5ab2fb",
   "metadata": {},
   "outputs": [],
   "source": [
    "df.dtypes"
   ]
  },
  {
   "cell_type": "code",
   "execution_count": null,
   "id": "291e5b75",
   "metadata": {},
   "outputs": [],
   "source": [
    "df.dtypes.value_counts()"
   ]
  },
  {
   "cell_type": "code",
   "execution_count": null,
   "id": "c442cae7",
   "metadata": {},
   "outputs": [],
   "source": [
    "df.info()"
   ]
  },
  {
   "cell_type": "code",
   "execution_count": null,
   "id": "02af069e",
   "metadata": {},
   "outputs": [],
   "source": [
    "df.describe()"
   ]
  },
  {
   "cell_type": "markdown",
   "id": "1f85b377",
   "metadata": {},
   "source": [
    "## Visualizando os dados"
   ]
  },
  {
   "cell_type": "code",
   "execution_count": null,
   "id": "f2abdc2c",
   "metadata": {},
   "outputs": [],
   "source": [
    "df.duplicated().sum()"
   ]
  },
  {
   "cell_type": "code",
   "execution_count": null,
   "id": "943d3454",
   "metadata": {},
   "outputs": [],
   "source": [
    "df.isnull().sum()"
   ]
  },
  {
   "cell_type": "code",
   "execution_count": null,
   "id": "44a99572",
   "metadata": {
    "scrolled": true
   },
   "outputs": [],
   "source": [
    "sns.heatmap(df.isnull(), cbar = False);"
   ]
  },
  {
   "cell_type": "code",
   "execution_count": null,
   "id": "c3e01dbd",
   "metadata": {},
   "outputs": [],
   "source": [
    "df.hist(bins = 30, figsize =(20,20), color= 'blue');\n",
    "# bins -> significa que será criado 30 faixas de distribuição no gráfico"
   ]
  },
  {
   "cell_type": "code",
   "execution_count": null,
   "id": "277a9ee4",
   "metadata": {},
   "outputs": [],
   "source": [
    "# Plotar o gráfico usando Plotly Express para mostrar a distribuição das idades\n",
    "fig = px.histogram(df, x='Age', title='Distribuição de Idades', labels={'Age': 'Idade', 'count': 'Contagem'})\n",
    "\n",
    "# Exibir o gráfico\n",
    "fig.show()"
   ]
  },
  {
   "cell_type": "code",
   "execution_count": null,
   "id": "3d0c25b8",
   "metadata": {},
   "outputs": [],
   "source": [
    "# Plotar o gráfico usando Plotly Express para mostrar a distribuição\n",
    "fig = px.histogram(df, x='EducationField', title='Distribuição do Campo Educação', labels={'EducationField': 'Campo  Educação', 'count': 'Contagem'})\n",
    "\n",
    "# Exibir o gráfico\n",
    "fig.show()"
   ]
  },
  {
   "cell_type": "code",
   "execution_count": null,
   "id": "57165d47",
   "metadata": {
    "scrolled": true
   },
   "outputs": [],
   "source": [
    "# Plotar o gráfico usando Plotly Expresspara mostrar a distribuição  dos departamentos da empresa\n",
    "fig = px.histogram(df, x='Department', title='Distribuição de Departamentos', labels={'Department': 'Departamento', 'count': 'Contagem'})\n",
    "\n",
    "# Exibir o gráfico\n",
    "fig.show()"
   ]
  },
  {
   "cell_type": "code",
   "execution_count": null,
   "id": "1be1b834",
   "metadata": {},
   "outputs": [],
   "source": [
    "# Plotar o gráfico de dispersão para mostrar a distribuição departamentos/função/idade\n",
    "fig = px.scatter(df, x='Age', y='Department', color='EducationField',\n",
    "                 title='Ocupação dos Departamentos por Função e Idade',\n",
    "                 labels={'Age': 'Idade', 'Department': 'Departamento', 'EducationField': 'Campo de Educação'})\n",
    "\n",
    "# Exibir o gráfico\n",
    "fig.show()"
   ]
  },
  {
   "cell_type": "code",
   "execution_count": null,
   "id": "bb898792",
   "metadata": {},
   "outputs": [],
   "source": [
    "# Calcular o número de ocupantes para cada combinação de Departamento, Educação e Idade\n",
    "df['Occupants'] = df.groupby(['Department', 'EducationField', 'Age'])['Age'].transform('count')\n",
    "\n",
    "# Plotar o gráfico de dispersão com o tamanho das bolhas representando o número de ocupantes\n",
    "fig = px.scatter(df, x='Age', y='Department', color='EducationField', size='Occupants',\n",
    "                 title='Ocupação dos Departamentos por Função, Idade e Número de Ocupantes',\n",
    "                 labels={'Age': 'Idade', 'Department': 'Departamento', 'EducationField': 'Campo de Educação', 'Occupants': 'Número de Ocupantes'})\n",
    "\n",
    "# Exibir o gráfico\n",
    "fig.show()\n"
   ]
  },
  {
   "cell_type": "code",
   "execution_count": null,
   "id": "7f65425b",
   "metadata": {},
   "outputs": [],
   "source": [
    "fig = px.scatter(df, x='YearsAtCompany', y='YearsInCurrentRole',\n",
    "                 title='Relação do Tempo na Empresa com o Tempo no Cargo',\n",
    "                 labels={'YearsAtCompany': 'Anos na Empresa', 'YearsInCurrentRole': 'Anos no Cargo Atual'})\n",
    "\n",
    "# Exibir o gráfico\n",
    "fig.show()"
   ]
  },
  {
   "cell_type": "code",
   "execution_count": null,
   "id": "f3cb3399",
   "metadata": {},
   "outputs": [],
   "source": [
    "df['Attrition'] = df['Attrition'].apply(lambda x: 1 if x == 'Yes' else 0)\n",
    "# a coluna attrition receberá o valor da conversão para numeral de acordo com a função,a mesma diz que vai ser preenchido com '1' se for Yes, caso contrário receberá o valor de '0'\n"
   ]
  },
  {
   "cell_type": "code",
   "execution_count": null,
   "id": "93164ac8",
   "metadata": {},
   "outputs": [],
   "source": [
    "df['OverTime'] = df['OverTime'].apply(lambda x: 1 if x == 'Yes' else 0)\n",
    "# a coluna receberá o valor da conversão para numeral de acordo com a função,a mesma diz que vai ser preenchido com '1' se for Yes, caso contrário receberá o valor de '0'\n"
   ]
  },
  {
   "cell_type": "code",
   "execution_count": null,
   "id": "0530b21b",
   "metadata": {},
   "outputs": [],
   "source": [
    "df['Over18'] = df['Over18'].apply(lambda x: 1 if x == 'Yes' else 0)\n",
    "# a coluna receberá o valor da conversão para numeral de acordo com a função,a mesma diz que vai ser preenchido com '1' se for Yes, caso contrário receberá o valor de '0'"
   ]
  },
  {
   "cell_type": "code",
   "execution_count": null,
   "id": "e3024599",
   "metadata": {},
   "outputs": [],
   "source": [
    "#Apagar valores / colunas não significativas para nossa análise já no 'df'\n",
    "\n",
    "df.drop(['EmployeeCount','StandardHours','Over18','EmployeeNumber'], axis = 1, inplace=True)\n",
    "\n",
    "\n"
   ]
  },
  {
   "cell_type": "code",
   "execution_count": null,
   "id": "307d05b3",
   "metadata": {},
   "outputs": [],
   "source": [
    "df.hist(bins = 30, figsize =(20,20), color= 'blue');\n",
    "# bins -> significa que será criado 30 faixas de distribuição no gráfico"
   ]
  },
  {
   "cell_type": "code",
   "execution_count": null,
   "id": "81028850",
   "metadata": {},
   "outputs": [],
   "source": [
    "plt.figure(figsize=[20,20])\n",
    "plt.subplot(411)\n",
    "sns.countplot(x = 'JobRole', hue = 'Attrition', data = df)\n",
    "plt.subplot(412)\n",
    "sns.countplot(x = 'MaritalStatus', hue = 'Attrition', data = df)\n",
    "plt.subplot(413)\n",
    "sns.countplot(x = 'JobInvolvement', hue = 'Attrition', data = df)\n",
    "plt.subplot(414)\n",
    "sns.countplot(x = 'JobLevel', hue = 'Attrition', data = df)"
   ]
  },
  {
   "cell_type": "code",
   "execution_count": null,
   "id": "6fe30a2b",
   "metadata": {},
   "outputs": [],
   "source": [
    "# verificar o nº de funcionários que saíram e ficaram na empresa no período analisado\n",
    "\n",
    "sairam_df = df[df['Attrition'] ==1] # pessoas que saíram da empresa\n",
    "ficaram_df = df[df['Attrition'] == 0] # pessoas que permaneceram na empresa"
   ]
  },
  {
   "cell_type": "code",
   "execution_count": null,
   "id": "82fa41f8",
   "metadata": {},
   "outputs": [],
   "source": [
    "# Verificando o percentual de funcionários que saíram e permaneceram na empresa\n",
    "\n",
    "print('Total = ', len(df))\n",
    "print('Número de funcionários que saíram da empresa = ', len(sairam_df))\n",
    "print('Porcentagem de funcionários que saíram da empresa = ', (len(sairam_df) / len(df)) * 100)\n",
    "print('Número de funcionários que ficaram na empresa = ', len(ficaram_df))\n",
    "print('Porcentagem de funcionários que ficaram na empresa = ', (len(ficaram_df) / len(df)) * 100)"
   ]
  },
  {
   "cell_type": "code",
   "execution_count": null,
   "id": "15bcc073",
   "metadata": {},
   "outputs": [],
   "source": [
    "sairam_df"
   ]
  },
  {
   "cell_type": "code",
   "execution_count": null,
   "id": "c9d3f644",
   "metadata": {},
   "outputs": [],
   "source": [
    "# Analise estatística das pessoas que saíram da empresa\n",
    "\n",
    "sairam_df.describe()"
   ]
  },
  {
   "cell_type": "code",
   "execution_count": null,
   "id": "98abadc0",
   "metadata": {},
   "outputs": [],
   "source": [
    "# Analise estatística das pessoas que ficaram da empresa\n",
    "\n",
    "ficaram_df.describe()"
   ]
  },
  {
   "cell_type": "code",
   "execution_count": null,
   "id": "60092e63",
   "metadata": {},
   "outputs": [],
   "source": [
    "\n",
    "import plotly.express as px\n",
    "\n",
    "# Dados\n",
    "labels = ['Saíram', 'Ficaram']\n",
    "values = [len(sairam_df), len(ficaram_df)]\n",
    "\n",
    "# Criar figura\n",
    "fig = px.bar(x=labels, y=values, title='Distribuição de Funcionários que Saíram e Ficaram na Empresa', labels={'x': 'Status', 'y': 'Número de Funcionários'})\n",
    "\n",
    "# Exibir gráfico\n",
    "fig.show()\n"
   ]
  },
  {
   "cell_type": "code",
   "execution_count": null,
   "id": "a999a785",
   "metadata": {},
   "outputs": [],
   "source": [
    "# Criar um gráfico de dispersão para mostrar a relação entre salário e número de pessoas que saíram\n",
    "plt.figure(figsize=(10, 6))\n",
    "plt.scatter(sairam_df['MonthlyIncome'], range(len(sairam_df)), color='blue', label='Funcionários que Saíram', alpha=0.7)\n",
    "plt.xlabel('Salário Mensal')\n",
    "plt.ylabel('Índice dos Funcionários que Saíram')\n",
    "plt.title('Relação entre Salário e Número de Pessoas que Saíram')\n",
    "plt.legend()\n",
    "plt.show()"
   ]
  },
  {
   "cell_type": "code",
   "execution_count": null,
   "id": "3a147a38",
   "metadata": {},
   "outputs": [],
   "source": [
    "# Criar um gráfico de dispersão para mostrar a relação entre salário e número de pessoas que saíram\n",
    "plt.figure(figsize=(10, 6))\n",
    "plt.scatter(ficaram_df['MonthlyIncome'], range(len(ficaram_df)), color='blue', label='Funcionários que Ficaram', alpha=0.7)\n",
    "plt.xlabel('Salário Mensal')\n",
    "plt.ylabel('Índice dos Funcionários que Saíram')\n",
    "plt.title('Relação entre Salário e Número de Pessoas que Ficaram')\n",
    "plt.legend()\n",
    "plt.show()"
   ]
  },
  {
   "cell_type": "code",
   "execution_count": null,
   "id": "4984137d",
   "metadata": {},
   "outputs": [],
   "source": [
    "# Criar um gráfico de dispersão para mostrar a relação entre salário e número de pessoas que saíram\n",
    "plt.figure(figsize=(10, 6))\n",
    "plt.scatter(sairam_df['Age'], range(len(sairam_df)), color='blue', label='Funcionários que Saíram', alpha=0.7)\n",
    "plt.xlabel('Idade Funcionários')\n",
    "plt.ylabel('Índice dos Funcionários que Saíram')\n",
    "plt.title('Relação entre Idade e Número de Pessoas que Saíram')\n",
    "plt.legend()\n",
    "plt.show()"
   ]
  },
  {
   "cell_type": "code",
   "execution_count": null,
   "id": "50c6e727",
   "metadata": {},
   "outputs": [],
   "source": [
    "# Criar um gráfico de dispersão para mostrar a relação entre salário e número de pessoas que saíram\n",
    "plt.figure(figsize=(10, 6))\n",
    "plt.scatter(ficaram_df['Age'], range(len(ficaram_df)), color='blue', label='Funcionários que Ficaram', alpha=0.7)\n",
    "plt.xlabel('Idade Funcionários')\n",
    "plt.ylabel('Índice dos Funcionários que Saíram')\n",
    "plt.title('Relação entre Idade e Número de Pessoas que ficaram')\n",
    "plt.legend()\n",
    "plt.show()"
   ]
  },
  {
   "cell_type": "code",
   "execution_count": null,
   "id": "90c4e478",
   "metadata": {},
   "outputs": [],
   "source": [
    "# Criar um gráfico de dispersão para mostrar a relação entre salário e número de pessoas que saíram\n",
    "plt.figure(figsize=(10, 6))\n",
    "plt.scatter(sairam_df['JobSatisfaction'], range(len(sairam_df)), color='blue', label='Funcionários que Saíram', alpha=0.7)\n",
    "plt.xlabel('Satisfação no trabalho')\n",
    "plt.ylabel('Índice dos Funcionários que Saíram')\n",
    "plt.title('Relação entre Satisfação no trabalho e Número de Pessoas que Saíram')\n",
    "plt.legend()\n",
    "plt.show()"
   ]
  },
  {
   "cell_type": "code",
   "execution_count": null,
   "id": "9e48c9bb",
   "metadata": {},
   "outputs": [],
   "source": [
    "# Criar um gráfico de dispersão para mostrar a relação entre salário e número de pessoas que saíram\n",
    "plt.figure(figsize=(10, 6))\n",
    "plt.scatter(ficaram_df['JobSatisfaction'], range(len(ficaram_df)), color='blue', label='Funcionários que Saíram', alpha=0.7)\n",
    "plt.xlabel('Satisfação no trabalho')\n",
    "plt.ylabel('Índice dos Funcionários que Ficaram')\n",
    "plt.title('Relação entre Satisfação no trabalho e Número de Pessoas que Ficaram')\n",
    "plt.legend()\n",
    "plt.show()"
   ]
  },
  {
   "cell_type": "code",
   "execution_count": null,
   "id": "af263c23",
   "metadata": {},
   "outputs": [],
   "source": [
    "# Calcular o número de \"Occupants\" que saíram por \"Age\"\n",
    "idade_sairam= sairam_df.groupby('Age')['Occupants'].count()\n",
    "idade_sairam"
   ]
  },
  {
   "cell_type": "code",
   "execution_count": null,
   "id": "777b195f",
   "metadata": {},
   "outputs": [],
   "source": [
    "# Plotar um gráfico de barras para o número de \"Occupants\" que saíram por idade\n",
    "plt.figure(figsize=(10, 6))\n",
    "idade_sairam.plot(kind='bar', color='purple')\n",
    "plt.title('Número de Funcionários que Saíram por Idade')\n",
    "plt.xlabel('Idade')\n",
    "plt.ylabel('Número de Funcionários que Saíram')\n",
    "plt.show()"
   ]
  },
  {
   "cell_type": "code",
   "execution_count": null,
   "id": "205dbb1b",
   "metadata": {},
   "outputs": [],
   "source": [
    "df_num = df.select_dtypes(include='number')\n",
    "\n",
    "# Calcular as correlações\n",
    "correlations = df_num.corr()\n",
    "\n",
    "# Plotar o heatmap\n",
    "f, ax = plt.subplots(figsize=(20, 20))\n",
    "sns.heatmap(correlations, annot=True);\n",
    "plt.show()"
   ]
  },
  {
   "cell_type": "code",
   "execution_count": null,
   "id": "0d0ff500",
   "metadata": {},
   "outputs": [],
   "source": [
    "# Quanto mais perto de \"1\", mais forte é a correlação, entre '0,5' e \"0,7\" é considerada mediana, mais próximo de '0' é uma correlação fraca, e também há a correlação negativa ( qd não influencia muito )\n",
    "\n",
    "# Selecionar apenas as colunas numéricas\n",
    "df_num = df.select_dtypes(include='number')\n",
    "\n",
    "# Calcular as correlações\n",
    "correlations = df_num.corr()\n",
    "\n",
    "# Mostrar a matriz de correlação\n",
    "print(correlations)\n"
   ]
  },
  {
   "cell_type": "code",
   "execution_count": null,
   "id": "fd1b357b",
   "metadata": {},
   "outputs": [],
   "source": [
    "# Comparativo dos funcionários de acordo com a faixa de idade e a proporção em relação à idade  que podem sair ou não da empresa\n",
    "\n",
    "plt.figure(figsize=[25,12])\n",
    "sns.countplot(x = 'Age', hue = 'Attrition', data= df);"
   ]
  },
  {
   "cell_type": "code",
   "execution_count": null,
   "id": "67a27598",
   "metadata": {},
   "outputs": [],
   "source": [
    "# Criando subplots para analisar a probabnilidade de saída em relação ao tipo de emprego, estado civil, valor salarial\n",
    "\n",
    "plt.figure(figsize=[20,20])\n",
    "plt.subplot(411)# 4 linhas, 1 coluna, e nº/id do gráfico\n",
    "sns.countplot(x = 'JobRole', hue = 'Attrition', data = df)\n",
    "plt.subplot(412)\n",
    "sns.countplot(x = 'MaritalStatus', hue = 'Attrition', data = df)\n",
    "plt.subplot(413)\n",
    "sns.countplot(x = 'JobInvolvement', hue = 'Attrition', data = df)\n",
    "plt.subplot(414)\n",
    "sns.countplot(x = 'JobLevel', hue = 'Attrition', data = df)"
   ]
  },
  {
   "cell_type": "code",
   "execution_count": null,
   "id": "9baad72d",
   "metadata": {},
   "outputs": [],
   "source": [
    "# Filtrar o DataFrame para incluir apenas linhas com 'Sales Representative' no 'Department'\n",
    "sales_rep_df = sairam_df[sairam_df['Department'] == 'Sales Representative']\n",
    "\n",
    "# Criar um gráfico de barras para a distribuição de idade dos Sales Representatives\n",
    "plt.figure(figsize=(8, 6))\n",
    "sns.histplot(sales_rep_df['Age'], bins=20, kde=True, color='green')\n",
    "plt.title('Distribuição de Idade dos Sales Representatives')\n",
    "plt.xlabel('Idade')\n",
    "plt.ylabel('Frequência')\n",
    "plt.show()"
   ]
  },
  {
   "cell_type": "code",
   "execution_count": null,
   "id": "b3bbd5e3",
   "metadata": {},
   "outputs": [],
   "source": [
    "# KDE (Kernel Density Estimate)\n",
    "# Distância da residência até a empresa\n",
    "plt.figure(figsize=(12,7))\n",
    "sns.kdeplot(sairam_df['DistanceFromHome'], label = 'Funcionários que saíram', shade = True, color = 'r')\n",
    "sns.kdeplot(ficaram_df['DistanceFromHome'], label = 'Funcionários que ficaram', shade = True, color = 'b');"
   ]
  },
  {
   "cell_type": "code",
   "execution_count": null,
   "id": "77ee5d47",
   "metadata": {},
   "outputs": [],
   "source": [
    "# Total de anos que a pessoa trabalha na empresa e sua proporção de saída ou não\n",
    "\n",
    "plt.figure(figsize=(12,7))\n",
    "sns.kdeplot(sairam_df['TotalWorkingYears'], label = 'Funcionários que saíram', shade = True, color = 'r')\n",
    "sns.kdeplot(ficaram_df['TotalWorkingYears'], label = 'Funcionários que ficaram', shade = True, color = 'b');"
   ]
  },
  {
   "cell_type": "code",
   "execution_count": null,
   "id": "3558a12a",
   "metadata": {},
   "outputs": [],
   "source": [
    "# Verificar o que leva as pessoas a ficar ou sair da empresa em relação a distância e anos na empresa"
   ]
  },
  {
   "cell_type": "code",
   "execution_count": null,
   "id": "e206780c",
   "metadata": {},
   "outputs": [],
   "source": [
    "plt.figure(figsize=(15, 10))\n",
    "sns.boxplot(x = 'MonthlyIncome', y = 'Gender', data= df);"
   ]
  },
  {
   "cell_type": "code",
   "execution_count": null,
   "id": "ad571481",
   "metadata": {},
   "outputs": [],
   "source": [
    "# Comaprativo da função com salário\n",
    "\n",
    "plt.figure(figsize=(15, 10))\n",
    "sns.boxplot(x = 'MonthlyIncome', y = 'JobRole', data= df);"
   ]
  },
  {
   "cell_type": "code",
   "execution_count": null,
   "id": "df3a2ab5",
   "metadata": {},
   "outputs": [],
   "source": [
    "df.info()"
   ]
  },
  {
   "cell_type": "markdown",
   "id": "1e65adad",
   "metadata": {},
   "source": [
    "## Pré-processamento dos Dados"
   ]
  },
  {
   "cell_type": "code",
   "execution_count": null,
   "id": "62b30b8e",
   "metadata": {},
   "outputs": [],
   "source": [
    "X_cat = []\n",
    "X_num = []\n",
    "\n",
    "for i in df.dtypes.index:\n",
    "    if df.dtypes[i] == 'object':\n",
    "       X_cat.append(i)\n",
    "    else:\n",
    "        X_num.append(i)\n"
   ]
  },
  {
   "cell_type": "code",
   "execution_count": null,
   "id": "be6e99f2",
   "metadata": {},
   "outputs": [],
   "source": [
    "X_cat"
   ]
  },
  {
   "cell_type": "code",
   "execution_count": null,
   "id": "0291aa50",
   "metadata": {},
   "outputs": [],
   "source": [
    "X_cat = df[['BusinessTravel', 'Department', 'EducationField', 'Gender', 'JobRole', 'MaritalStatus']]\n",
    "X_cat"
   ]
  },
  {
   "cell_type": "code",
   "execution_count": null,
   "id": "044c9df5",
   "metadata": {},
   "outputs": [],
   "source": [
    "# Transformar os dados em array\n",
    "from sklearn.preprocessing import OneHotEncoder\n",
    "onehotencoder = OneHotEncoder()\n",
    "X_cat = onehotencoder.fit_transform(X_cat).toarray()"
   ]
  },
  {
   "cell_type": "code",
   "execution_count": null,
   "id": "b4893894",
   "metadata": {},
   "outputs": [],
   "source": [
    "X_cat"
   ]
  },
  {
   "cell_type": "code",
   "execution_count": null,
   "id": "26b0956c",
   "metadata": {},
   "outputs": [],
   "source": [
    "X_cat = pd.DataFrame(X_cat)\n",
    "type(X_cat)"
   ]
  },
  {
   "cell_type": "code",
   "execution_count": null,
   "id": "5f2e3bec",
   "metadata": {},
   "outputs": [],
   "source": [
    "X_cat"
   ]
  },
  {
   "cell_type": "code",
   "execution_count": null,
   "id": "5e608b4d",
   "metadata": {},
   "outputs": [],
   "source": [
    "# Buscando valores únicos da coluna\n",
    "\n",
    "df['BusinessTravel'].unique()"
   ]
  },
  {
   "cell_type": "code",
   "execution_count": null,
   "id": "d8c0c49c",
   "metadata": {},
   "outputs": [],
   "source": [
    "# Podemos visualizar cada coluna separadamente\n",
    "\n",
    "df[df['BusinessTravel']== 'Travel_Rarely']"
   ]
  },
  {
   "cell_type": "code",
   "execution_count": null,
   "id": "29bbccc3",
   "metadata": {},
   "outputs": [],
   "source": [
    "# Buscando os valores numéricos\n",
    "\n",
    "X_num"
   ]
  },
  {
   "cell_type": "code",
   "execution_count": null,
   "id": "533423de",
   "metadata": {},
   "outputs": [],
   "source": [
    "X_num = df[['Age', 'DailyRate', 'DistanceFromHome',\t'Education', 'EnvironmentSatisfaction', 'HourlyRate', 'JobInvolvement',\t'JobLevel',\t'JobSatisfaction',\t'MonthlyIncome',\t'MonthlyRate',\t'NumCompaniesWorked',\t'OverTime',\t'PercentSalaryHike', 'PerformanceRating',\t'RelationshipSatisfaction',\t'StockOptionLevel',\t'TotalWorkingYears'\t,'TrainingTimesLastYear'\t, 'WorkLifeBalance',\t'YearsAtCompany'\t,'YearsInCurrentRole', 'YearsSinceLastPromotion',\t'YearsWithCurrManager']]\n",
    "X_num"
   ]
  },
  {
   "cell_type": "code",
   "execution_count": null,
   "id": "74265006",
   "metadata": {},
   "outputs": [],
   "source": [
    "# Concatenando as variávies categóricas e numéricas, colocando uma coluna ao lado da outra\n",
    "\n",
    "X_all = pd.concat([X_cat, X_num], axis = 1)\n",
    "X_all"
   ]
  },
  {
   "cell_type": "code",
   "execution_count": null,
   "id": "eaf822c0",
   "metadata": {},
   "outputs": [],
   "source": [
    "from sklearn.preprocessing import MinMaxScaler\n",
    "\n",
    "# Separando colunas categóricas e numéricas\n",
    "X_cat = X_all.select_dtypes(include='object')\n",
    "X_num = X_all.select_dtypes(exclude='object')\n",
    "\n",
    "# Convertendo os nomes das colunas numéricas para string\n",
    "X_num.columns = X_num.columns.astype(str)\n",
    "\n",
    "# Aplicando o MinMaxScaler nas colunas numéricas para padronizar/normalizar os dados e deixar na mesma escala\n",
    "scaler = MinMaxScaler()\n",
    "X_num_scaled = pd.DataFrame(scaler.fit_transform(X_num), columns=X_num.columns)\n",
    "\n",
    "# Juntando os DataFrames novamente\n",
    "X_scaled = pd.concat([X_cat, X_num_scaled], axis=1)\n",
    "\n",
    "# Exibindo o resultado\n",
    "print(X_scaled)\n"
   ]
  },
  {
   "cell_type": "code",
   "execution_count": null,
   "id": "431d5b97",
   "metadata": {},
   "outputs": [],
   "source": [
    "# Criando um df para o \"Y\"\n",
    "\n",
    "y = df['Attrition']\n",
    "y"
   ]
  },
  {
   "cell_type": "code",
   "execution_count": null,
   "id": "a08143fe",
   "metadata": {},
   "outputs": [],
   "source": [
    "# Criando a base de treino e teste\n",
    "\n",
    "from sklearn.model_selection import train_test_split\n",
    "X_train, X_test, y_train, y_test = train_test_split(X_scaled, y, test_size = 0.25)"
   ]
  },
  {
   "cell_type": "code",
   "execution_count": null,
   "id": "7fd3d481",
   "metadata": {},
   "outputs": [],
   "source": [
    "X_train.shape, y_train # treino será feito com base em 1102 linhas e 50 colunas"
   ]
  },
  {
   "cell_type": "code",
   "execution_count": null,
   "id": "6fdde730",
   "metadata": {},
   "outputs": [],
   "source": [
    "X_test.shape, y_test # teste será feito com base em 368 linhas e 50 colunas"
   ]
  },
  {
   "cell_type": "markdown",
   "id": "1b2a0431",
   "metadata": {},
   "source": [
    "## Regressão Logística"
   ]
  },
  {
   "cell_type": "code",
   "execution_count": null,
   "id": "a609a342",
   "metadata": {},
   "outputs": [],
   "source": [
    "# Usado para saída binárias, enquanto a regressaõ linear é usada para prever nºs"
   ]
  },
  {
   "cell_type": "code",
   "execution_count": null,
   "id": "682278fd",
   "metadata": {},
   "outputs": [],
   "source": [
    "from sklearn.linear_model import LogisticRegression"
   ]
  },
  {
   "cell_type": "code",
   "execution_count": null,
   "id": "4fc01d2a",
   "metadata": {},
   "outputs": [],
   "source": [
    "logistic = LogisticRegression()\n",
    "logistic.fit(X_train, y_train)"
   ]
  },
  {
   "cell_type": "code",
   "execution_count": null,
   "id": "8c37a0b7",
   "metadata": {},
   "outputs": [],
   "source": [
    "y_pred = logistic.predict(X_test)\n",
    "y_pred"
   ]
  },
  {
   "cell_type": "code",
   "execution_count": null,
   "id": "d5595411",
   "metadata": {},
   "outputs": [],
   "source": [
    "y_test"
   ]
  },
  {
   "cell_type": "code",
   "execution_count": null,
   "id": "16034444",
   "metadata": {},
   "outputs": [],
   "source": [
    "from sklearn.metrics import accuracy_score"
   ]
  },
  {
   "cell_type": "code",
   "execution_count": null,
   "id": "1a8a9808",
   "metadata": {},
   "outputs": [],
   "source": [
    "# Comaprando os valores previstos com a base de dados\n",
    "\n",
    "accuracy_score(y_test, y_pred)"
   ]
  },
  {
   "cell_type": "code",
   "execution_count": null,
   "id": "034efd34",
   "metadata": {},
   "outputs": [],
   "source": [
    "from sklearn.metrics import confusion_matrix"
   ]
  },
  {
   "cell_type": "code",
   "execution_count": null,
   "id": "e3307c0a",
   "metadata": {},
   "outputs": [],
   "source": [
    "cm = confusion_matrix(y_test, y_pred)\n",
    "cm"
   ]
  },
  {
   "cell_type": "code",
   "execution_count": null,
   "id": "42228ba9",
   "metadata": {},
   "outputs": [],
   "source": [
    "sns.heatmap(cm, annot=True);"
   ]
  },
  {
   "cell_type": "code",
   "execution_count": null,
   "id": "efee0618",
   "metadata": {},
   "outputs": [],
   "source": [
    "# Precision que está correto, ou seja, acertou em 88% as pessoas que vão sair da empresa\n",
    "23 / (23 + 3)"
   ]
  },
  {
   "cell_type": "code",
   "execution_count": null,
   "id": "6394cc5c",
   "metadata": {},
   "outputs": [],
   "source": [
    "# Recall -> identifica o percentual de 34% de pessoas que vão sair da empresa\n",
    "23 / (23 + 43)"
   ]
  },
  {
   "cell_type": "code",
   "execution_count": null,
   "id": "a33b9ec3",
   "metadata": {},
   "outputs": [],
   "source": [
    "from sklearn.metrics import precision_score, recall_score, f1_score, classification_report"
   ]
  },
  {
   "cell_type": "code",
   "execution_count": null,
   "id": "305f5602",
   "metadata": {},
   "outputs": [],
   "source": [
    "precision_score(y_test, y_pred)"
   ]
  },
  {
   "cell_type": "code",
   "execution_count": null,
   "id": "06dceb1a",
   "metadata": {},
   "outputs": [],
   "source": [
    "recall_score(y_test, y_pred)"
   ]
  },
  {
   "cell_type": "code",
   "execution_count": null,
   "id": "d8a630fa",
   "metadata": {},
   "outputs": [],
   "source": [
    "f1_score(y_test, y_pred, average='macro')"
   ]
  },
  {
   "cell_type": "code",
   "execution_count": null,
   "id": "7fb03e3a",
   "metadata": {},
   "outputs": [],
   "source": [
    "print(classification_report(y_test, y_pred))"
   ]
  },
  {
   "cell_type": "markdown",
   "id": "f86c1660",
   "metadata": {},
   "source": [
    "## Random forest"
   ]
  },
  {
   "cell_type": "code",
   "execution_count": null,
   "id": "e5695f45",
   "metadata": {},
   "outputs": [],
   "source": [
    "from sklearn.ensemble import RandomForestClassifier\n",
    "\n",
    "forest = RandomForestClassifier()\n",
    "forest.fit(X_train, y_train)"
   ]
  },
  {
   "cell_type": "code",
   "execution_count": null,
   "id": "11c56656",
   "metadata": {},
   "outputs": [],
   "source": [
    "y_pred = forest.predict(X_test)"
   ]
  },
  {
   "cell_type": "code",
   "execution_count": null,
   "id": "d05f9b77",
   "metadata": {},
   "outputs": [],
   "source": [
    "y_pred"
   ]
  },
  {
   "cell_type": "code",
   "execution_count": null,
   "id": "ef2dc1d3",
   "metadata": {},
   "outputs": [],
   "source": [
    "accuracy_score(y_test, y_pred)"
   ]
  },
  {
   "cell_type": "code",
   "execution_count": null,
   "id": "ea8f55a7",
   "metadata": {},
   "outputs": [],
   "source": [
    "cm = confusion_matrix(y_pred, y_test)\n",
    "cm"
   ]
  },
  {
   "cell_type": "code",
   "execution_count": null,
   "id": "c6ae3bbd",
   "metadata": {},
   "outputs": [],
   "source": [
    "sns.heatmap(cm, annot=True);"
   ]
  },
  {
   "cell_type": "code",
   "execution_count": null,
   "id": "e316ff95",
   "metadata": {},
   "outputs": [],
   "source": [
    "print(classification_report(y_test, y_pred))"
   ]
  },
  {
   "cell_type": "markdown",
   "id": "64df4729",
   "metadata": {},
   "source": [
    "## Redes neurais"
   ]
  },
  {
   "cell_type": "code",
   "execution_count": null,
   "id": "c1c1b4a0",
   "metadata": {},
   "outputs": [],
   "source": [
    "!pip install tensorflow\n"
   ]
  },
  {
   "cell_type": "code",
   "execution_count": null,
   "id": "039de577",
   "metadata": {},
   "outputs": [],
   "source": [
    "import tensorflow as tf"
   ]
  },
  {
   "cell_type": "code",
   "execution_count": null,
   "id": "5f66aa4b",
   "metadata": {},
   "outputs": [],
   "source": [
    "X_train.shape"
   ]
  },
  {
   "cell_type": "code",
   "execution_count": null,
   "id": "dad9cc64",
   "metadata": {},
   "outputs": [],
   "source": [
    "(50 + 1) / 2"
   ]
  },
  {
   "cell_type": "code",
   "execution_count": null,
   "id": "a4d26fa2",
   "metadata": {},
   "outputs": [],
   "source": [
    "rede_neural = tf.keras.models.Sequential()\n",
    "rede_neural.add(tf.keras.layers.Dense(units = 25, activation='relu', input_shape=(50,)))\n",
    "rede_neural.add(tf.keras.layers.Dense(units = 25, activation = 'relu'))\n",
    "rede_neural.add(tf.keras.layers.Dense(units = 25, activation = 'relu'))\n",
    "rede_neural.add(tf.keras.layers.Dense(units = 1, activation = 'sigmoid'))"
   ]
  },
  {
   "cell_type": "code",
   "execution_count": null,
   "id": "e3be94f6",
   "metadata": {},
   "outputs": [],
   "source": [
    "rede_neural.summary()"
   ]
  },
  {
   "cell_type": "code",
   "execution_count": null,
   "id": "8ac97c86",
   "metadata": {},
   "outputs": [],
   "source": [
    "rede_neural.compile(optimizer='Adam', loss='binary_crossentropy', metrics = ['accuracy'])"
   ]
  },
  {
   "cell_type": "code",
   "execution_count": null,
   "id": "e306cca0",
   "metadata": {},
   "outputs": [],
   "source": [
    "rede_neural.fit(X_train, y_train, epochs=200)"
   ]
  },
  {
   "cell_type": "code",
   "execution_count": null,
   "id": "18a56a82",
   "metadata": {},
   "outputs": [],
   "source": [
    "y_pred = rede_neural.predict(X_test)\n",
    "y_pred"
   ]
  },
  {
   "cell_type": "code",
   "execution_count": null,
   "id": "b06a944b",
   "metadata": {},
   "outputs": [],
   "source": [
    "y_pred = (y_pred >= 0.5)\n",
    "y_pred"
   ]
  },
  {
   "cell_type": "code",
   "execution_count": null,
   "id": "42a50fad",
   "metadata": {},
   "outputs": [],
   "source": [
    "cm = confusion_matrix(y_test, y_pred)\n",
    "cm"
   ]
  },
  {
   "cell_type": "code",
   "execution_count": null,
   "id": "5b4a806e",
   "metadata": {},
   "outputs": [],
   "source": [
    "sns.heatmap(cm, annot=True);"
   ]
  },
  {
   "cell_type": "code",
   "execution_count": null,
   "id": "1ebc2e76",
   "metadata": {},
   "outputs": [],
   "source": [
    "print(classification_report(y_test, y_pred))"
   ]
  },
  {
   "cell_type": "markdown",
   "id": "9ef81437",
   "metadata": {},
   "source": [
    "# Salvando"
   ]
  },
  {
   "cell_type": "code",
   "execution_count": null,
   "id": "af1e9818",
   "metadata": {},
   "outputs": [],
   "source": [
    "# Escolho a linha do funcionário, preencho com as variáveis cat e num e aplico"
   ]
  },
  {
   "cell_type": "code",
   "execution_count": null,
   "id": "1f057f57",
   "metadata": {},
   "outputs": [],
   "source": [
    "#import pickle"
   ]
  },
  {
   "cell_type": "code",
   "execution_count": null,
   "id": "97c3ebce",
   "metadata": {},
   "outputs": [],
   "source": [
    "'''with open('variaveis_modelo.pkl', 'wb') as f:\n",
    "  pickle.dump([scaler, onehotencoder, logistic], f)'''"
   ]
  },
  {
   "cell_type": "code",
   "execution_count": null,
   "id": "40a4002f",
   "metadata": {},
   "outputs": [],
   "source": [
    "'''with open('variaveis_modelo.pkl', 'rb') as f:\n",
    "  min_max, encoder, model = pickle.load(f)'''"
   ]
  },
  {
   "cell_type": "code",
   "execution_count": null,
   "id": "488baa0f",
   "metadata": {},
   "outputs": [],
   "source": [
    "'''min_max, encoder, model'''"
   ]
  },
  {
   "cell_type": "code",
   "execution_count": null,
   "id": "dd555401",
   "metadata": {},
   "outputs": [],
   "source": [
    "'''X_novo = df.iloc[0:1] # BUSCANDO O REGISTRO\n",
    "X_novo'''"
   ]
  },
  {
   "cell_type": "code",
   "execution_count": null,
   "id": "d8415cdc",
   "metadata": {},
   "outputs": [],
   "source": [
    "'''X_cat_novo = X_novo[['BusinessTravel', 'Department', 'EducationField', 'Gender', 'JobRole', 'MaritalStatus']]# LEMBRAR DE CITAR TODAS AS COLUNAS CATEGÓRICAS\n",
    "X_cat_novo'''"
   ]
  },
  {
   "cell_type": "code",
   "execution_count": null,
   "id": "45fabaf9",
   "metadata": {},
   "outputs": [],
   "source": [
    "#X_cat_novo = encoder.transform(X_cat_novo).toarray()"
   ]
  },
  {
   "cell_type": "code",
   "execution_count": null,
   "id": "cd75cda7",
   "metadata": {},
   "outputs": [],
   "source": [
    "#X_cat_novo"
   ]
  },
  {
   "cell_type": "code",
   "execution_count": null,
   "id": "750b6558",
   "metadata": {},
   "outputs": [],
   "source": [
    "'''X_cat_novo = pd.DataFrame(X_cat_novo)\n",
    "X_cat_novo'''"
   ]
  },
  {
   "cell_type": "code",
   "execution_count": null,
   "id": "4dae24ec",
   "metadata": {},
   "outputs": [],
   "source": [
    "'''X_numerical_novo = X_novo[['Age', 'DailyRate', 'DistanceFromHome',\t'Education', 'EnvironmentSatisfaction', 'HourlyRate', 'JobInvolvement',\t'JobLevel',\t'JobSatisfaction',\t'MonthlyIncome',\t'MonthlyRate',\t'NumCompaniesWorked',\t'OverTime',\t'PercentSalaryHike', 'PerformanceRating',\t'RelationshipSatisfaction',\t'StockOptionLevel',\t'TotalWorkingYears'\t,'TrainingTimesLastYear'\t, 'WorkLifeBalance',\t'YearsAtCompany'\t,'YearsInCurrentRole', 'YearsSinceLastPromotion',\t'YearsWithCurrManager']]\n",
    "X_numerical_novo'''"
   ]
  },
  {
   "cell_type": "code",
   "execution_count": null,
   "id": "311fc792",
   "metadata": {},
   "outputs": [],
   "source": [
    "'''X_all_novo = pd.concat([X_cat_novo, X_numerical_novo], axis = 1)\n",
    "X_all_novo'''"
   ]
  },
  {
   "cell_type": "code",
   "execution_count": null,
   "id": "6322ec72",
   "metadata": {},
   "outputs": [],
   "source": [
    "'''X_novo = min_max.transform(X_all_novo)\n",
    "X_novo'''"
   ]
  },
  {
   "cell_type": "code",
   "execution_count": null,
   "id": "e9ec694d",
   "metadata": {},
   "outputs": [],
   "source": [
    "#model.predict(X_novo)"
   ]
  },
  {
   "cell_type": "code",
   "execution_count": null,
   "id": "478627ae",
   "metadata": {},
   "outputs": [],
   "source": [
    "#model.predict_proba(X_novo)"
   ]
  },
  {
   "cell_type": "code",
   "execution_count": null,
   "id": "44c70c8b",
   "metadata": {},
   "outputs": [],
   "source": [
    "#model.classes_"
   ]
  }
 ],
 "metadata": {
  "kernelspec": {
   "display_name": "Python 3 (ipykernel)",
   "language": "python",
   "name": "python3"
  },
  "language_info": {
   "codemirror_mode": {
    "name": "ipython",
    "version": 3
   },
   "file_extension": ".py",
   "mimetype": "text/x-python",
   "name": "python",
   "nbconvert_exporter": "python",
   "pygments_lexer": "ipython3",
   "version": "3.11.5"
  }
 },
 "nbformat": 4,
 "nbformat_minor": 5
}
